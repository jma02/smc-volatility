


import matplotlib.pyplot as plt
import numpy as np

# Number of time steps
# We will use capital N for something else later
n = 200

# For multiple plots, keeping alpha and sigma fixed for now
sigma_param = [1.0, 1.0, 1.0, 1.0]
beta_param = [0.1, 0.2, 0.35, 0.5] 
alpha_param = [0.91, 0.91, 0.91, 0.91]

fig, axes = plt.subplots(4, 1, figsize=(12, 12), sharex=True)

for i in range(4):
    X = [0] * n
    Y = [0] * n

    sigma = sigma_param[i]
    beta = beta_param[i]
    alpha = alpha_param[i]

    X[0] = np.random.normal(0, sigma / (1 - alpha))
    Y[0] = beta * np.exp(X[0] / 2) * np.random.normal(0, 1)

    for t in range(1, n):
        X[t] = alpha * X[t - 1] + sigma * np.random.normal(0, 1)
        Y[t] = beta * np.exp(X[t] / 2) * np.random.normal(0, 1)

    axes[i].plot(X, label='Volatility', color='blue', alpha=0.3)
    axes[i].scatter(range(n), Y, label='Observed values', color='orange', s=10, alpha=1.0)
    axes[i].set_title(rf'Plot {i+1}: $\sigma$={sigma}, $\beta$={beta}, $\alpha$={alpha}')
    axes[i].legend()
    axes[i].grid(True)

# Shared labels
fig.suptitle('Stochastic Volatility Model with Varying Parameters', fontsize=16)
fig.supxlabel('Time')
fig.supylabel('Value of Stochastic Process')

plt.tight_layout(rect=[0, 0, 1, 0.96])
plt.show()













