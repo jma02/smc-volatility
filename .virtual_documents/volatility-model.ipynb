





import matplotlib.pyplot as plt
import numpy as np

# Number of time steps
# We will use capital N for something else later
n = 200

# For multiple plots, keeping alpha and sigma fixed for now
sigma_param = [1.0, 1.0, 1.0, 1.0]
beta_param = [0.1, 0.2, 0.35, 0.5] 
alpha_param = [0.91, 0.91, 0.91, 0.91]

fig, axes = plt.subplots(4, 1, figsize=(12, 12), sharex=True)

for i in range(4):
    X = [0] * n
    Y = [0] * n

    sigma = sigma_param[i]
    beta = beta_param[i]
    alpha = alpha_param[i]

    X[0] = np.random.normal(0, sigma / (1 - alpha))
    Y[0] = beta * np.exp(X[0] / 2) * np.random.normal(0, 1)

    for t in range(1, n):
        X[t] = alpha * X[t - 1] + sigma * np.random.normal(0, 1)
        Y[t] = beta * np.exp(X[t] / 2) * np.random.normal(0, 1)

    axes[i].plot(X, label='Volatility', color='blue', alpha=0.3)
    axes[i].scatter(range(n), Y, label='Observed values', color='orange', s=10, alpha=1.0)
    axes[i].set_title(rf'Plot {i+1}: $\sigma$={sigma}, $\beta$={beta}, $\alpha$={alpha}')
    axes[i].legend()
    axes[i].grid(True)

# Shared labels
fig.suptitle('Stochastic Volatility Model with Varying Parameters', fontsize=16)
fig.supxlabel('Time')
fig.supylabel('Value of Stochastic Process')

plt.tight_layout(rect=[0, 0, 1, 0.96])
plt.show()

































































































































n = 100
hidden_X = [0] * n
Y = [0] * n

sigma = 1.0
beta = 0.5
alpha = 0.91

hidden_X[0] = np.random.normal(0, sigma / (1 - alpha))
Y[0] = beta * np.exp(hidden_X[0] / 2) * np.random.normal(0, 1)

for t in range(1, n):
    hidden_X[t] = alpha * hidden_X[t - 1] + sigma * np.random.normal(0, 1)
    Y[t] = beta * np.exp(hidden_X[t] / 2) * np.random.normal(0, 1)

fig, ax = plt.subplots(figsize=(10, 4))

ax.plot(hidden_X, label='Volatility', color='blue', alpha=0.13)
ax.scatter(range(n), Y, label='Observed values', color='orange', s=10, alpha=1.0)

ax.set_title(rf'Stochastic Volatility Model: $\sigma$={sigma}, $\beta$={beta}, $\alpha$={alpha}', fontsize=14)
ax.set_xlabel('Time')
ax.set_ylabel('Value of Stochastic Process')
ax.legend()
ax.grid(True)

plt.tight_layout()
plt.show()








N = 100000
particles = [np.zeros(N) for _ in range(n)]

particles[0] = np.random.normal(loc=0, scale=(sigma**2)/(1-alpha**2), size=N)





from scipy.stats import norm as normal
# yeah, I'm definitely not keeping it named like that
weights = [np.zeros(N) for _ in range(n)]

unnormalized_weights = [np.zeros(N) for _ in range(n)]
likelihoods = [np.zeros(N) for _ in range(n)]
# This of course is superfluous, but we won't always have the unnormalized weights equal to
# the likelihoods
likelihoods[0] = normal.pdf(Y[0], loc=0, scale=beta**2*np.exp(particles[0]))
unnormalized_weights[0] = likelihoods[0]
weights[0] = unnormalized_weights[0] / (np.sum(unnormalized_weights[0]))





conditional_expectations = np.zeros(n)
conditional_stddevs = np.zeros(n)

conditional_expectations[0] = np.sum(weights[0] * particles[0])
conditional_stddevs[0] = np.sqrt(np.sum(weights[0] \
                                        * (particles[0] - conditional_expectations[0])**2))





for t in range(1,n):
    particles[t] = np.random.normal(loc=particles[t-1], scale=sigma**2, size=N)
    # see above again
    likelihoods[t] = normal.pdf(Y[t], loc=0, scale=beta**2*np.exp(particles[t]))
    unnormalized_weights[t] = likelihoods[t]
    weights[t] = unnormalized_weights[t] / (np.sum(unnormalized_weights[t]))
    conditional_expectations[t] = np.sum(weights[t] * particles[t])
    conditional_stddevs[t] = np.sqrt(np.sum(weights[t \
        ] * (particles[t] - conditional_expectations[t])**2))





fig, ax = plt.subplots(figsize=(12, 5))

ax.plot(conditional_expectations, label=r'Filtered $\mathbb{E}[X_t \mid y_{1:t}]$', color='green', linewidth=2)

ax.fill_between(
    range(n),
    conditional_expectations - conditional_stddevs,
    conditional_expectations + conditional_stddevs,
    color='green',
    alpha=0.2,
    label=r'$\pm 1$ Std Dev'
)

ax.plot(hidden_X, label='True Volatility $X_t$', color='blue', linestyle='--', alpha=0.3)

ax.set_title(r'Filtered Volatility Estimate (SIS) with Uncertainty', fontsize=14)
ax.set_xlabel('Time')
ax.set_ylabel('Latent Volatility $X_t$')
ax.legend()
ax.grid(True)

plt.tight_layout()
plt.show()





N = 10000
particles = [np.zeros(N) for _ in range(n)]

particles[0] = np.random.normal(loc=0, scale=(sigma**2)/(1-alpha**2), size=N)
weights = [np.zeros(N) for _ in range(n)]

unnormalized_weights = [np.zeros(N) for _ in range(n)]
likelihoods = [np.zeros(N) for _ in range(n)]
likelihoods[0] = normal.pdf(Y[0], loc=0, scale=beta**2*np.exp(particles[0]))
unnormalized_weights[0] = likelihoods[0]
weights[0] = unnormalized_weights[0] / (np.sum(unnormalized_weights[0]))

# Work should be done before resampling
conditional_expectations = np.zeros(n)
conditional_stddevs = np.zeros(n)

conditional_expectations[0] = np.sum(weights[0] * particles[0])
conditional_stddevs[0] = np.sqrt(np.sum(weights[0] \
                                        * (particles[0] - conditional_expectations[0])**2))
# Resample initial particles
resample = np.random.multinomial(N, weights[0])
particles[0] = resample
weights[t] = [1/N]*N
for t in range(1,n):
    particles[t] = np.random.normal(loc=particles[t-1], scale=sigma**2, size=N)
    likelihoods[t] = normal.pdf(Y[t], loc=0, scale=beta**2*np.exp(particles[t]))
    unnormalized_weights[t] = likelihoods[t]
    weights[t] = unnormalized_weights[t] / (np.sum(unnormalized_weights[t]))
    
    conditional_expectations[t] = np.sum(weights[t] * particles[t])
    conditional_stddevs[t] = np.sqrt(np.sum(weights[t \
        ] * (particles[t] - conditional_expectations[t])**2))
    # Resample here
    resample = np.random.multinomial(N, weights[t])
    particles[t] = resample
    weights[t] = [1/N]*N
fig, ax = plt.subplots(figsize=(12, 5))

ax.plot(conditional_expectations, label=r'Filtered $\mathbb{E}[X_t \mid y_{1:t}]$', color='green', linewidth=2)

ax.fill_between(
    range(n),
    conditional_expectations - conditional_stddevs,
    conditional_expectations + conditional_stddevs,
    color='green',
    alpha=0.2,
    label=r'$\pm 1$ Std Dev'
)

ax.plot(hidden_X, label='True Volatility $X_t$', color='blue', linestyle='--', alpha=0.3)

ax.set_title(r'Filtered Volatility Estimate (SIR) with Uncertainty', fontsize=14)
ax.set_xlabel('Time')
ax.set_ylabel('Latent Volatility $X_t$')
ax.legend()
ax.grid(True)

plt.tight_layout()
plt.show()



